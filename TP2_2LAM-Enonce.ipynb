{
 "cells": [
  {
   "cell_type": "markdown",
   "metadata": {},
   "source": [
    "# Simulation du jeux de LIDO simplifié\n",
    "## chadha said 2lm1 tp1\n"
   ]
  },
  {
   "cell_type": "markdown",
   "metadata": {},
   "source": [
    "## Principe\n",
    "On considére un jeux de Lido simple:\n",
    "on dispose d'un un seul pion.\n",
    "\n",
    "- Etape 0 :\n",
    "Le pion doit sort de sa prison lorsqu'on obtient un 6.\n",
    "\n",
    "- Etape 1 :\n",
    "Le pion doit atteindre exactement une position cible situé à N pas de distance de sa prison \n",
    "\n",
    "Soit $X_n$ la variable aléatoire qui represente le nombre de coup nécéssaire pour atteindre la positions cible.\n",
    "\n",
    "**Objectif 1** : Simuler le jeux \n",
    "\n",
    "**Objectif 2** : Calculer une estimation de l'éspérance mathématique de $X_n$ en utilisant `python`\n",
    "\n",
    "**Objéctif 3** : Observer la variation de $\\mathbb{E}(X_n)$ en fonction de $n$\n",
    "\n",
    "<img src=\"LIDO.png\">\n"
   ]
  },
  {
   "cell_type": "code",
   "execution_count": null,
   "metadata": {},
   "outputs": [],
   "source": [
    "import numpy as np"
   ]
  },
  {
   "cell_type": "markdown",
   "metadata": {},
   "source": [
    "### Simulation du lancé de dé"
   ]
  },
  {
   "cell_type": "code",
   "execution_count": null,
   "metadata": {},
   "outputs": [],
   "source": [
    "def Roll():\n",
    "    return int(np.random.choice(range(1,7),1))"
   ]
  },
  {
   "cell_type": "code",
   "execution_count": null,
   "metadata": {},
   "outputs": [],
   "source": [
    "Roll()"
   ]
  },
  {
   "cell_type": "markdown",
   "metadata": {},
   "source": [
    "### Compléter le code et commenter"
   ]
  },
  {
   "cell_type": "code",
   "execution_count": null,
   "metadata": {},
   "outputs": [],
   "source": [
    "## le code commenté  :"
   ]
  },
  {
   "cell_type": "code",
   "execution_count": null,
   "metadata": {
    "scrolled": false
   },
   "outputs": [],
   "source": [
    "def sim(S):                             \n",
    "    S=10 #langueur chemin \n",
    "    A=0                                     \n",
    "    ## position intiale \n",
    "    NA=0                                  \n",
    "    ## nombre de lanceé   \n",
    "    temp=Roll()                             \n",
    "    ##variable temporelle qui contient le pas d'avance \n",
    "    \n",
    "    #sortir de la prison \n",
    "    while temp!=6:                       \n",
    "        ## repéter le lancement de dé jusqu'à atteindre  la valeur 6 pour sortire de prison\n",
    "        temp=Roll()                     \n",
    "        ##variable temporelle qui contient le pas d'avance \n",
    "        NA+=1                           \n",
    "        ## cette instruction  permet de compter le nombre de lancement de dé \n",
    "        print(NA,temp)\n",
    "    A=1                                \n",
    "    ## le pas prend 1 un aprés la sortir de prison \n",
    "    print(NA,temp,A)\n",
    "    while (A<S):                       \n",
    "        ## tant que on n'a pas attendre l'arriver s  on va répéter le lancement \n",
    "        temp=Roll()                     \n",
    "        ## relancer le  dé\n",
    "        if(A+temp<S):                   \n",
    "            ## si pas actuelle + pas d'avancement < valeur de darriver s\n",
    "            NA+=1                       \n",
    "            ## incrementer  de nombre de lancement\n",
    "            print(NA,temp,A)\n",
    "            A=A+temp                    \n",
    "            ##changer  de pas actuelle \n",
    "        elif(A+temp>S):                \n",
    "            ## sinon si valeur de d'arriver s   <  pas actuelle + pas davencement  on ne fait rien  \n",
    "            NA+=1                        \n",
    "            ##j on a  incremente nombre de lancement \n",
    "        else:                          \n",
    "            ## sinon ==> si si valeur de darriver s   ==  pas actuelle + pas davencement\n",
    "            A=S                        \n",
    "            ## pas actuelle   recoit valeur de d'arriveé s\n",
    "            NA+=1                      \n",
    "            ## incrementer  de nombre de lancement\n",
    "            print(NA,temp,A)\n",
    "    return NA                            \n",
    "##retourner nombre de lancement                            \n"
   ]
  },
  {
   "cell_type": "markdown",
   "metadata": {},
   "source": [
    "### Simulation\n",
    "Ecrire une foction `sim` qui simule le jeux et qui prend comme variable le nombre de pas $n$ nécessazire pour atteindre la cible"
   ]
  },
  {
   "cell_type": "code",
   "execution_count": null,
   "metadata": {},
   "outputs": [],
   "source": [
    "N=1000\n",
    "##on va repeter le traitement N fois pour trouver la moyenne de nombre de pas  conduisant   à la fin \n"
   ]
  },
  {
   "cell_type": "code",
   "execution_count": null,
   "metadata": {},
   "outputs": [],
   "source": [
    "sim(100)                        \n",
    "##faire un appel au fonction sim\n",
    "l=[sim(10) for i in range(N)]  \n",
    "sum(l)/N                       \n",
    "##calculer le  moyenne                 \n"
   ]
  },
  {
   "cell_type": "markdown",
   "metadata": {},
   "source": [
    "### Simulation de $10^5$  scénario "
   ]
  },
  {
   "cell_type": "code",
   "execution_count": null,
   "metadata": {},
   "outputs": [],
   "source": [
    "Freq=np.fromiter((sim(20) for i in range(10**5)),dtype=int)"
   ]
  },
  {
   "cell_type": "code",
   "execution_count": null,
   "metadata": {},
   "outputs": [],
   "source": [
    "ESP=Freq.sum()/10**5"
   ]
  },
  {
   "cell_type": "code",
   "execution_count": null,
   "metadata": {},
   "outputs": [],
   "source": [
    "x=list(range(10,20))"
   ]
  },
  {
   "cell_type": "code",
   "execution_count": null,
   "metadata": {},
   "outputs": [],
   "source": [
    "y=[np.fromiter((sim(u) for i in range(5*10**4)),dtype=int).sum()/50000 for u in x]"
   ]
  },
  {
   "cell_type": "code",
   "execution_count": null,
   "metadata": {},
   "outputs": [],
   "source": [
    "import matplotlib.pyplot as plt"
   ]
  },
  {
   "cell_type": "code",
   "execution_count": null,
   "metadata": {},
   "outputs": [],
   "source": [
    "plt.plot(x,y,'r')\n",
    "plt.show()"
   ]
  },
  {
   "cell_type": "code",
   "execution_count": null,
   "metadata": {},
   "outputs": [],
   "source": [
    "from scipy import stats\n",
    "import numpy as np\n",
    "slope, intercept, r_value, p_value, std_err = stats.linregress(x,y)"
   ]
  },
  {
   "cell_type": "code",
   "execution_count": null,
   "metadata": {},
   "outputs": [],
   "source": [
    "slope"
   ]
  },
  {
   "cell_type": "code",
   "execution_count": null,
   "metadata": {},
   "outputs": [],
   "source": [
    "intercept"
   ]
  },
  {
   "cell_type": "code",
   "execution_count": null,
   "metadata": {},
   "outputs": [],
   "source": [
    "yy=[slope*u+intercept for u in x]"
   ]
  },
  {
   "cell_type": "code",
   "execution_count": null,
   "metadata": {},
   "outputs": [],
   "source": [
    "plt.plot(x,y,'*r',x,yy,'-b')\n",
    "plt.show"
   ]
  }
 ],
 "metadata": {
  "kernelspec": {
   "display_name": "Python 3",
   "language": "python",
   "name": "python3"
  },
  "language_info": {
   "codemirror_mode": {
    "name": "ipython",
    "version": 3
   },
   "file_extension": ".py",
   "mimetype": "text/x-python",
   "name": "python",
   "nbconvert_exporter": "python",
   "pygments_lexer": "ipython3",
   "version": "3.8.8"
  }
 },
 "nbformat": 4,
 "nbformat_minor": 4
}
